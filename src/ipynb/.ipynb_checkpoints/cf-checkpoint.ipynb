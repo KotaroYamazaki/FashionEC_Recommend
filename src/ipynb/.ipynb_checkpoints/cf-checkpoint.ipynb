{
 "cells": [
  {
   "cell_type": "code",
   "execution_count": 1,
   "metadata": {
    "collapsed": true
   },
   "outputs": [],
   "source": [
    "import pandas as pd\n",
    "import numpy as np"
   ]
  },
  {
   "cell_type": "markdown",
   "metadata": {},
   "source": [
    "# データの前処理"
   ]
  },
  {
   "cell_type": "code",
   "execution_count": 2,
   "metadata": {
    "collapsed": false
   },
   "outputs": [],
   "source": [
    "logs = pd.read_csv('../sample/medium/log_medium.csv')\n",
    "users = pd.read_csv('../sample/medium/user_medium.csv')\n",
    "products = pd.read_csv('../sample/medium/product_medium.csv')"
   ]
  },
  {
   "cell_type": "code",
   "execution_count": 3,
   "metadata": {
    "collapsed": false
   },
   "outputs": [
    {
     "data": {
      "text/html": [
       "<div>\n",
       "<table border=\"1\" class=\"dataframe\">\n",
       "  <thead>\n",
       "    <tr style=\"text-align: right;\">\n",
       "      <th></th>\n",
       "      <th>order_id</th>\n",
       "      <th>user_id</th>\n",
       "      <th>product_id</th>\n",
       "      <th>tag_price</th>\n",
       "      <th>price</th>\n",
       "      <th>quantity</th>\n",
       "    </tr>\n",
       "  </thead>\n",
       "  <tbody>\n",
       "    <tr>\n",
       "      <th>0</th>\n",
       "      <td>1000001</td>\n",
       "      <td>1000001</td>\n",
       "      <td>1000002</td>\n",
       "      <td>3600</td>\n",
       "      <td>1800</td>\n",
       "      <td>1</td>\n",
       "    </tr>\n",
       "    <tr>\n",
       "      <th>1</th>\n",
       "      <td>1000002</td>\n",
       "      <td>1000001</td>\n",
       "      <td>1000010</td>\n",
       "      <td>9800</td>\n",
       "      <td>9800</td>\n",
       "      <td>1</td>\n",
       "    </tr>\n",
       "    <tr>\n",
       "      <th>2</th>\n",
       "      <td>1000003</td>\n",
       "      <td>1000002</td>\n",
       "      <td>1000014</td>\n",
       "      <td>23760</td>\n",
       "      <td>23760</td>\n",
       "      <td>1</td>\n",
       "    </tr>\n",
       "    <tr>\n",
       "      <th>3</th>\n",
       "      <td>1000004</td>\n",
       "      <td>1000002</td>\n",
       "      <td>1000012</td>\n",
       "      <td>9500</td>\n",
       "      <td>9500</td>\n",
       "      <td>1</td>\n",
       "    </tr>\n",
       "    <tr>\n",
       "      <th>4</th>\n",
       "      <td>1000005</td>\n",
       "      <td>1000002</td>\n",
       "      <td>1000006</td>\n",
       "      <td>9800</td>\n",
       "      <td>9800</td>\n",
       "      <td>1</td>\n",
       "    </tr>\n",
       "    <tr>\n",
       "      <th>5</th>\n",
       "      <td>1000006</td>\n",
       "      <td>1000003</td>\n",
       "      <td>1000003</td>\n",
       "      <td>14000</td>\n",
       "      <td>12600</td>\n",
       "      <td>1</td>\n",
       "    </tr>\n",
       "    <tr>\n",
       "      <th>6</th>\n",
       "      <td>1000007</td>\n",
       "      <td>1000003</td>\n",
       "      <td>1000001</td>\n",
       "      <td>3900</td>\n",
       "      <td>2000</td>\n",
       "      <td>1</td>\n",
       "    </tr>\n",
       "    <tr>\n",
       "      <th>7</th>\n",
       "      <td>1000008</td>\n",
       "      <td>1000004</td>\n",
       "      <td>1000015</td>\n",
       "      <td>6000</td>\n",
       "      <td>6000</td>\n",
       "      <td>1</td>\n",
       "    </tr>\n",
       "    <tr>\n",
       "      <th>8</th>\n",
       "      <td>1000009</td>\n",
       "      <td>1000004</td>\n",
       "      <td>1000011</td>\n",
       "      <td>9700</td>\n",
       "      <td>9700</td>\n",
       "      <td>1</td>\n",
       "    </tr>\n",
       "    <tr>\n",
       "      <th>9</th>\n",
       "      <td>1000010</td>\n",
       "      <td>1000005</td>\n",
       "      <td>1000008</td>\n",
       "      <td>17000</td>\n",
       "      <td>17000</td>\n",
       "      <td>1</td>\n",
       "    </tr>\n",
       "    <tr>\n",
       "      <th>10</th>\n",
       "      <td>1000011</td>\n",
       "      <td>1000006</td>\n",
       "      <td>1000007</td>\n",
       "      <td>12000</td>\n",
       "      <td>12000</td>\n",
       "      <td>1</td>\n",
       "    </tr>\n",
       "    <tr>\n",
       "      <th>11</th>\n",
       "      <td>1000012</td>\n",
       "      <td>1000007</td>\n",
       "      <td>1000002</td>\n",
       "      <td>3600</td>\n",
       "      <td>1800</td>\n",
       "      <td>1</td>\n",
       "    </tr>\n",
       "    <tr>\n",
       "      <th>12</th>\n",
       "      <td>1000013</td>\n",
       "      <td>1000007</td>\n",
       "      <td>1000005</td>\n",
       "      <td>6000</td>\n",
       "      <td>6000</td>\n",
       "      <td>1</td>\n",
       "    </tr>\n",
       "    <tr>\n",
       "      <th>13</th>\n",
       "      <td>1000013</td>\n",
       "      <td>1000007</td>\n",
       "      <td>1000004</td>\n",
       "      <td>8000</td>\n",
       "      <td>8000</td>\n",
       "      <td>1</td>\n",
       "    </tr>\n",
       "    <tr>\n",
       "      <th>14</th>\n",
       "      <td>1000014</td>\n",
       "      <td>1000003</td>\n",
       "      <td>1000009</td>\n",
       "      <td>17000</td>\n",
       "      <td>17000</td>\n",
       "      <td>1</td>\n",
       "    </tr>\n",
       "    <tr>\n",
       "      <th>15</th>\n",
       "      <td>1000015</td>\n",
       "      <td>1000003</td>\n",
       "      <td>1000002</td>\n",
       "      <td>3600</td>\n",
       "      <td>1800</td>\n",
       "      <td>1</td>\n",
       "    </tr>\n",
       "    <tr>\n",
       "      <th>16</th>\n",
       "      <td>1000016</td>\n",
       "      <td>1000007</td>\n",
       "      <td>1000010</td>\n",
       "      <td>9800</td>\n",
       "      <td>9800</td>\n",
       "      <td>1</td>\n",
       "    </tr>\n",
       "    <tr>\n",
       "      <th>17</th>\n",
       "      <td>1000017</td>\n",
       "      <td>1000008</td>\n",
       "      <td>1000010</td>\n",
       "      <td>9800</td>\n",
       "      <td>9800</td>\n",
       "      <td>1</td>\n",
       "    </tr>\n",
       "    <tr>\n",
       "      <th>18</th>\n",
       "      <td>1000018</td>\n",
       "      <td>1000008</td>\n",
       "      <td>1000011</td>\n",
       "      <td>9700</td>\n",
       "      <td>9700</td>\n",
       "      <td>1</td>\n",
       "    </tr>\n",
       "  </tbody>\n",
       "</table>\n",
       "</div>"
      ],
      "text/plain": [
       "    order_id  user_id  product_id  tag_price  price  quantity\n",
       "0    1000001  1000001     1000002       3600   1800         1\n",
       "1    1000002  1000001     1000010       9800   9800         1\n",
       "2    1000003  1000002     1000014      23760  23760         1\n",
       "3    1000004  1000002     1000012       9500   9500         1\n",
       "4    1000005  1000002     1000006       9800   9800         1\n",
       "5    1000006  1000003     1000003      14000  12600         1\n",
       "6    1000007  1000003     1000001       3900   2000         1\n",
       "7    1000008  1000004     1000015       6000   6000         1\n",
       "8    1000009  1000004     1000011       9700   9700         1\n",
       "9    1000010  1000005     1000008      17000  17000         1\n",
       "10   1000011  1000006     1000007      12000  12000         1\n",
       "11   1000012  1000007     1000002       3600   1800         1\n",
       "12   1000013  1000007     1000005       6000   6000         1\n",
       "13   1000013  1000007     1000004       8000   8000         1\n",
       "14   1000014  1000003     1000009      17000  17000         1\n",
       "15   1000015  1000003     1000002       3600   1800         1\n",
       "16   1000016  1000007     1000010       9800   9800         1\n",
       "17   1000017  1000008     1000010       9800   9800         1\n",
       "18   1000018  1000008     1000011       9700   9700         1"
      ]
     },
     "execution_count": 3,
     "metadata": {},
     "output_type": "execute_result"
    }
   ],
   "source": [
    "logs"
   ]
  },
  {
   "cell_type": "code",
   "execution_count": 4,
   "metadata": {
    "collapsed": false
   },
   "outputs": [
    {
     "data": {
      "text/html": [
       "<div>\n",
       "<table border=\"1\" class=\"dataframe\">\n",
       "  <thead>\n",
       "    <tr style=\"text-align: right;\">\n",
       "      <th></th>\n",
       "      <th>user_id</th>\n",
       "      <th>user_name</th>\n",
       "      <th>age</th>\n",
       "      <th>address</th>\n",
       "      <th>last_login</th>\n",
       "      <th>last_purchase</th>\n",
       "    </tr>\n",
       "  </thead>\n",
       "  <tbody>\n",
       "    <tr>\n",
       "      <th>3</th>\n",
       "      <td>1000004</td>\n",
       "      <td>D</td>\n",
       "      <td>27</td>\n",
       "      <td>G city</td>\n",
       "      <td>2018-11-21 12:11:04 UTC</td>\n",
       "      <td>2018-10-17 19:56:03 UTC</td>\n",
       "    </tr>\n",
       "    <tr>\n",
       "      <th>4</th>\n",
       "      <td>1000005</td>\n",
       "      <td>E</td>\n",
       "      <td>54</td>\n",
       "      <td>I city</td>\n",
       "      <td>2018-11-02 13:21:56 UTC</td>\n",
       "      <td>2018-10-27 01:43:03 UTC</td>\n",
       "    </tr>\n",
       "    <tr>\n",
       "      <th>5</th>\n",
       "      <td>1000006</td>\n",
       "      <td>F</td>\n",
       "      <td>50</td>\n",
       "      <td>A city</td>\n",
       "      <td>2018-11-01 01:43:02 UTC</td>\n",
       "      <td>2018-10-17 19:56:03 UTC</td>\n",
       "    </tr>\n",
       "    <tr>\n",
       "      <th>6</th>\n",
       "      <td>1000007</td>\n",
       "      <td>G</td>\n",
       "      <td>22</td>\n",
       "      <td>A city</td>\n",
       "      <td>2018-11-01 01:43:02 UTC</td>\n",
       "      <td>2018-10-17 19:56:03 UTC</td>\n",
       "    </tr>\n",
       "    <tr>\n",
       "      <th>7</th>\n",
       "      <td>1000008</td>\n",
       "      <td>H</td>\n",
       "      <td>21</td>\n",
       "      <td>E city</td>\n",
       "      <td>2018-11-21 12:11:04 UTC</td>\n",
       "      <td>2018-10-17 19:56:03 UTC</td>\n",
       "    </tr>\n",
       "  </tbody>\n",
       "</table>\n",
       "</div>"
      ],
      "text/plain": [
       "   user_id user_name  age address               last_login  \\\n",
       "3  1000004         D   27  G city  2018-11-21 12:11:04 UTC   \n",
       "4  1000005         E   54  I city  2018-11-02 13:21:56 UTC   \n",
       "5  1000006         F   50  A city  2018-11-01 01:43:02 UTC   \n",
       "6  1000007         G   22  A city  2018-11-01 01:43:02 UTC   \n",
       "7  1000008         H   21  E city  2018-11-21 12:11:04 UTC   \n",
       "\n",
       "             last_purchase  \n",
       "3  2018-10-17 19:56:03 UTC  \n",
       "4  2018-10-27 01:43:03 UTC  \n",
       "5  2018-10-17 19:56:03 UTC  \n",
       "6  2018-10-17 19:56:03 UTC  \n",
       "7  2018-10-17 19:56:03 UTC  "
      ]
     },
     "execution_count": 4,
     "metadata": {},
     "output_type": "execute_result"
    }
   ],
   "source": [
    "users.tail()"
   ]
  },
  {
   "cell_type": "code",
   "execution_count": 5,
   "metadata": {
    "collapsed": false
   },
   "outputs": [
    {
     "data": {
      "text/html": [
       "<div>\n",
       "<table border=\"1\" class=\"dataframe\">\n",
       "  <thead>\n",
       "    <tr style=\"text-align: right;\">\n",
       "      <th></th>\n",
       "      <th>product_id</th>\n",
       "      <th>product_name</th>\n",
       "      <th>sub_category</th>\n",
       "      <th>category</th>\n",
       "      <th>brand</th>\n",
       "      <th>shop</th>\n",
       "      <th>tag_price</th>\n",
       "    </tr>\n",
       "  </thead>\n",
       "  <tbody>\n",
       "    <tr>\n",
       "      <th>0</th>\n",
       "      <td>1000001</td>\n",
       "      <td>Nike log pull over</td>\n",
       "      <td>sweat</td>\n",
       "      <td>tops</td>\n",
       "      <td>nike</td>\n",
       "      <td>nike</td>\n",
       "      <td>3700</td>\n",
       "    </tr>\n",
       "    <tr>\n",
       "      <th>1</th>\n",
       "      <td>1000002</td>\n",
       "      <td>Nike sports hoodie</td>\n",
       "      <td>hoodie</td>\n",
       "      <td>tops</td>\n",
       "      <td>nike</td>\n",
       "      <td>nike</td>\n",
       "      <td>3600</td>\n",
       "    </tr>\n",
       "    <tr>\n",
       "      <th>2</th>\n",
       "      <td>1000003</td>\n",
       "      <td>Adidas logo-hoodie</td>\n",
       "      <td>hoodie</td>\n",
       "      <td>tops</td>\n",
       "      <td>adidas</td>\n",
       "      <td>adidas</td>\n",
       "      <td>14000</td>\n",
       "    </tr>\n",
       "    <tr>\n",
       "      <th>3</th>\n",
       "      <td>1000004</td>\n",
       "      <td>Freaks Store Boa-jacket</td>\n",
       "      <td>other jacket</td>\n",
       "      <td>outer</td>\n",
       "      <td>Freaks Store</td>\n",
       "      <td>Freaks Store</td>\n",
       "      <td>8000</td>\n",
       "    </tr>\n",
       "    <tr>\n",
       "      <th>4</th>\n",
       "      <td>1000005</td>\n",
       "      <td>Freaks Store noldick knit</td>\n",
       "      <td>knit</td>\n",
       "      <td>tops</td>\n",
       "      <td>Freaks Store</td>\n",
       "      <td>Freaks Store</td>\n",
       "      <td>6000</td>\n",
       "    </tr>\n",
       "  </tbody>\n",
       "</table>\n",
       "</div>"
      ],
      "text/plain": [
       "   product_id               product_name  sub_category category         brand  \\\n",
       "0     1000001         Nike log pull over         sweat     tops          nike   \n",
       "1     1000002         Nike sports hoodie        hoodie     tops          nike   \n",
       "2     1000003         Adidas logo-hoodie        hoodie     tops        adidas   \n",
       "3     1000004    Freaks Store Boa-jacket  other jacket    outer  Freaks Store   \n",
       "4     1000005  Freaks Store noldick knit          knit     tops  Freaks Store   \n",
       "\n",
       "           shop  tag_price  \n",
       "0          nike       3700  \n",
       "1          nike       3600  \n",
       "2        adidas      14000  \n",
       "3  Freaks Store       8000  \n",
       "4  Freaks Store       6000  "
      ]
     },
     "execution_count": 5,
     "metadata": {},
     "output_type": "execute_result"
    }
   ],
   "source": [
    "products.head()"
   ]
  },
  {
   "cell_type": "markdown",
   "metadata": {},
   "source": [
    "# データ整形\n",
    "不要なカラムを削る"
   ]
  },
  {
   "cell_type": "code",
   "execution_count": 6,
   "metadata": {
    "collapsed": true
   },
   "outputs": [],
   "source": [
    "df_u = users.drop(['age','address','last_login','last_purchase'], axis = 'columns')\n",
    "df_p = products.drop(['category','shop','brand','tag_price'],axis='columns')\n",
    "df_po = pd.merge(df_p,logs, on='product_id')\n",
    "df_pu = pd.merge(df_po,df_u, on='user_id',how='inner')\n",
    "df_pu = df_pu.drop(['product_id','sub_category','order_id', 'user_id','price','tag_price'],axis='columns')"
   ]
  },
  {
   "cell_type": "markdown",
   "metadata": {},
   "source": [
    "## ユーザー*商品の行列を作成\n",
    "値は購入した個数"
   ]
  },
  {
   "cell_type": "code",
   "execution_count": 7,
   "metadata": {
    "collapsed": false
   },
   "outputs": [
    {
     "data": {
      "text/html": [
       "<div>\n",
       "<table border=\"1\" class=\"dataframe\">\n",
       "  <thead>\n",
       "    <tr style=\"text-align: right;\">\n",
       "      <th>product_name</th>\n",
       "      <th>Adidas logo-hoodie</th>\n",
       "      <th>Adidas track pants</th>\n",
       "      <th>Danton 2way bag</th>\n",
       "      <th>Danton boa-jacket</th>\n",
       "      <th>Danton inner down jacket</th>\n",
       "      <th>Freak Store Super big hoodie</th>\n",
       "      <th>Freaks Store Boa-jacket</th>\n",
       "      <th>Freaks Store noldick knit</th>\n",
       "      <th>Nike OH pants</th>\n",
       "      <th>Nike air force 1</th>\n",
       "      <th>Nike log pull over</th>\n",
       "      <th>Nike sports hoodie</th>\n",
       "      <th>The North Face Down jacket</th>\n",
       "      <th>The North Face Swead boots</th>\n",
       "    </tr>\n",
       "    <tr>\n",
       "      <th>user_name</th>\n",
       "      <th></th>\n",
       "      <th></th>\n",
       "      <th></th>\n",
       "      <th></th>\n",
       "      <th></th>\n",
       "      <th></th>\n",
       "      <th></th>\n",
       "      <th></th>\n",
       "      <th></th>\n",
       "      <th></th>\n",
       "      <th></th>\n",
       "      <th></th>\n",
       "      <th></th>\n",
       "      <th></th>\n",
       "    </tr>\n",
       "  </thead>\n",
       "  <tbody>\n",
       "    <tr>\n",
       "      <th>A</th>\n",
       "      <td>0.0</td>\n",
       "      <td>0.0</td>\n",
       "      <td>0.0</td>\n",
       "      <td>0.0</td>\n",
       "      <td>0.0</td>\n",
       "      <td>0.0</td>\n",
       "      <td>0.0</td>\n",
       "      <td>0.0</td>\n",
       "      <td>0.0</td>\n",
       "      <td>1.0</td>\n",
       "      <td>0.0</td>\n",
       "      <td>1.0</td>\n",
       "      <td>0.0</td>\n",
       "      <td>0.0</td>\n",
       "    </tr>\n",
       "    <tr>\n",
       "      <th>B</th>\n",
       "      <td>0.0</td>\n",
       "      <td>0.0</td>\n",
       "      <td>1.0</td>\n",
       "      <td>0.0</td>\n",
       "      <td>0.0</td>\n",
       "      <td>0.0</td>\n",
       "      <td>0.0</td>\n",
       "      <td>0.0</td>\n",
       "      <td>0.0</td>\n",
       "      <td>0.0</td>\n",
       "      <td>0.0</td>\n",
       "      <td>0.0</td>\n",
       "      <td>1.0</td>\n",
       "      <td>1.0</td>\n",
       "    </tr>\n",
       "    <tr>\n",
       "      <th>C</th>\n",
       "      <td>1.0</td>\n",
       "      <td>1.0</td>\n",
       "      <td>0.0</td>\n",
       "      <td>0.0</td>\n",
       "      <td>0.0</td>\n",
       "      <td>0.0</td>\n",
       "      <td>0.0</td>\n",
       "      <td>0.0</td>\n",
       "      <td>0.0</td>\n",
       "      <td>0.0</td>\n",
       "      <td>1.0</td>\n",
       "      <td>1.0</td>\n",
       "      <td>0.0</td>\n",
       "      <td>0.0</td>\n",
       "    </tr>\n",
       "    <tr>\n",
       "      <th>D</th>\n",
       "      <td>0.0</td>\n",
       "      <td>0.0</td>\n",
       "      <td>0.0</td>\n",
       "      <td>0.0</td>\n",
       "      <td>0.0</td>\n",
       "      <td>1.0</td>\n",
       "      <td>0.0</td>\n",
       "      <td>0.0</td>\n",
       "      <td>1.0</td>\n",
       "      <td>0.0</td>\n",
       "      <td>0.0</td>\n",
       "      <td>0.0</td>\n",
       "      <td>0.0</td>\n",
       "      <td>0.0</td>\n",
       "    </tr>\n",
       "    <tr>\n",
       "      <th>E</th>\n",
       "      <td>0.0</td>\n",
       "      <td>0.0</td>\n",
       "      <td>0.0</td>\n",
       "      <td>0.0</td>\n",
       "      <td>1.0</td>\n",
       "      <td>0.0</td>\n",
       "      <td>0.0</td>\n",
       "      <td>0.0</td>\n",
       "      <td>0.0</td>\n",
       "      <td>0.0</td>\n",
       "      <td>0.0</td>\n",
       "      <td>0.0</td>\n",
       "      <td>0.0</td>\n",
       "      <td>0.0</td>\n",
       "    </tr>\n",
       "    <tr>\n",
       "      <th>F</th>\n",
       "      <td>0.0</td>\n",
       "      <td>0.0</td>\n",
       "      <td>0.0</td>\n",
       "      <td>1.0</td>\n",
       "      <td>0.0</td>\n",
       "      <td>0.0</td>\n",
       "      <td>0.0</td>\n",
       "      <td>0.0</td>\n",
       "      <td>0.0</td>\n",
       "      <td>0.0</td>\n",
       "      <td>0.0</td>\n",
       "      <td>0.0</td>\n",
       "      <td>0.0</td>\n",
       "      <td>0.0</td>\n",
       "    </tr>\n",
       "    <tr>\n",
       "      <th>G</th>\n",
       "      <td>0.0</td>\n",
       "      <td>0.0</td>\n",
       "      <td>0.0</td>\n",
       "      <td>0.0</td>\n",
       "      <td>0.0</td>\n",
       "      <td>0.0</td>\n",
       "      <td>1.0</td>\n",
       "      <td>1.0</td>\n",
       "      <td>0.0</td>\n",
       "      <td>1.0</td>\n",
       "      <td>0.0</td>\n",
       "      <td>1.0</td>\n",
       "      <td>0.0</td>\n",
       "      <td>0.0</td>\n",
       "    </tr>\n",
       "    <tr>\n",
       "      <th>H</th>\n",
       "      <td>0.0</td>\n",
       "      <td>0.0</td>\n",
       "      <td>0.0</td>\n",
       "      <td>0.0</td>\n",
       "      <td>0.0</td>\n",
       "      <td>0.0</td>\n",
       "      <td>0.0</td>\n",
       "      <td>0.0</td>\n",
       "      <td>1.0</td>\n",
       "      <td>1.0</td>\n",
       "      <td>0.0</td>\n",
       "      <td>0.0</td>\n",
       "      <td>0.0</td>\n",
       "      <td>0.0</td>\n",
       "    </tr>\n",
       "  </tbody>\n",
       "</table>\n",
       "</div>"
      ],
      "text/plain": [
       "product_name  Adidas logo-hoodie  Adidas track pants  Danton 2way bag  \\\n",
       "user_name                                                               \n",
       "A                            0.0                 0.0              0.0   \n",
       "B                            0.0                 0.0              1.0   \n",
       "C                            1.0                 1.0              0.0   \n",
       "D                            0.0                 0.0              0.0   \n",
       "E                            0.0                 0.0              0.0   \n",
       "F                            0.0                 0.0              0.0   \n",
       "G                            0.0                 0.0              0.0   \n",
       "H                            0.0                 0.0              0.0   \n",
       "\n",
       "product_name  Danton boa-jacket   Danton inner down jacket  \\\n",
       "user_name                                                    \n",
       "A                            0.0                       0.0   \n",
       "B                            0.0                       0.0   \n",
       "C                            0.0                       0.0   \n",
       "D                            0.0                       0.0   \n",
       "E                            0.0                       1.0   \n",
       "F                            1.0                       0.0   \n",
       "G                            0.0                       0.0   \n",
       "H                            0.0                       0.0   \n",
       "\n",
       "product_name  Freak Store Super big hoodie  Freaks Store Boa-jacket  \\\n",
       "user_name                                                             \n",
       "A                                      0.0                      0.0   \n",
       "B                                      0.0                      0.0   \n",
       "C                                      0.0                      0.0   \n",
       "D                                      1.0                      0.0   \n",
       "E                                      0.0                      0.0   \n",
       "F                                      0.0                      0.0   \n",
       "G                                      0.0                      1.0   \n",
       "H                                      0.0                      0.0   \n",
       "\n",
       "product_name  Freaks Store noldick knit  Nike OH pants  Nike air force 1  \\\n",
       "user_name                                                                  \n",
       "A                                   0.0            0.0               1.0   \n",
       "B                                   0.0            0.0               0.0   \n",
       "C                                   0.0            0.0               0.0   \n",
       "D                                   0.0            1.0               0.0   \n",
       "E                                   0.0            0.0               0.0   \n",
       "F                                   0.0            0.0               0.0   \n",
       "G                                   1.0            0.0               1.0   \n",
       "H                                   0.0            1.0               1.0   \n",
       "\n",
       "product_name  Nike log pull over  Nike sports hoodie  \\\n",
       "user_name                                              \n",
       "A                            0.0                 1.0   \n",
       "B                            0.0                 0.0   \n",
       "C                            1.0                 1.0   \n",
       "D                            0.0                 0.0   \n",
       "E                            0.0                 0.0   \n",
       "F                            0.0                 0.0   \n",
       "G                            0.0                 1.0   \n",
       "H                            0.0                 0.0   \n",
       "\n",
       "product_name  The North Face Down jacket  The North Face Swead boots  \n",
       "user_name                                                             \n",
       "A                                    0.0                         0.0  \n",
       "B                                    1.0                         1.0  \n",
       "C                                    0.0                         0.0  \n",
       "D                                    0.0                         0.0  \n",
       "E                                    0.0                         0.0  \n",
       "F                                    0.0                         0.0  \n",
       "G                                    0.0                         0.0  \n",
       "H                                    0.0                         0.0  "
      ]
     },
     "execution_count": 7,
     "metadata": {},
     "output_type": "execute_result"
    }
   ],
   "source": [
    "df_pu_pivot = df_pu.pivot(index='user_name', columns = 'product_name',values = 'quantity').fillna(0)\n",
    "df_pu_pivot"
   ]
  },
  {
   "cell_type": "code",
   "execution_count": 8,
   "metadata": {
    "collapsed": false
   },
   "outputs": [
    {
     "data": {
      "text/plain": [
       "product_name\n",
       "Adidas logo-hoodie              False\n",
       "Adidas track pants              False\n",
       "Danton 2way bag                 False\n",
       "Danton boa-jacket               False\n",
       "Danton inner down jacket        False\n",
       "Freak Store Super big hoodie    False\n",
       "Freaks Store Boa-jacket         False\n",
       "Freaks Store noldick knit       False\n",
       "Nike OH pants                   False\n",
       "Nike air force 1                 True\n",
       "Nike log pull over              False\n",
       "Nike sports hoodie               True\n",
       "The North Face Down jacket      False\n",
       "The North Face Swead boots      False\n",
       "Name: A, dtype: bool"
      ]
     },
     "execution_count": 8,
     "metadata": {},
     "output_type": "execute_result"
    }
   ],
   "source": [
    "df_pu_pivot.loc['A'] > 0"
   ]
  },
  {
   "cell_type": "markdown",
   "metadata": {},
   "source": [
    "# 学習\n",
    "## アプローチ\n",
    "1. k近傍法を用いユーザー同士の距離を計算\n",
    "1. 距離から類似度を求め、レコメンド関数を作成\n",
    "1. レコメンド関数にレコメンドしたいユーザーを入力として渡し、商品のレコメンドランキングを返す"
   ]
  },
  {
   "cell_type": "code",
   "execution_count": 9,
   "metadata": {
    "collapsed": false
   },
   "outputs": [],
   "source": [
    "from scipy.sparse import csr_matrix\n",
    "from sklearn.neighbors import NearestNeighbors\n",
    "\n",
    "#疎行列変換\n",
    "df_pu_pivot_sparse = csr_matrix(df_pu_pivot.values)"
   ]
  },
  {
   "cell_type": "code",
   "execution_count": 10,
   "metadata": {
    "collapsed": false
   },
   "outputs": [],
   "source": [
    "# Scikit-learnのライブラリを利用しモデルを作成\n",
    "N = 5\n",
    "knn = NearestNeighbors(n_neighbors=N,algorithm= 'brute', metric= 'cosine')\n",
    " \n",
    "# 前処理したデータセットでモデルを訓練\n",
    "model_knn = knn.fit(df_pu_pivot_sparse)"
   ]
  },
  {
   "cell_type": "markdown",
   "metadata": {},
   "source": [
    "### ユーザーの検索関数"
   ]
  },
  {
   "cell_type": "code",
   "execution_count": 11,
   "metadata": {
    "collapsed": true
   },
   "outputs": [],
   "source": [
    "def search_user(string):\n",
    "    print(df_pu_pivot[df_pu_pivot.index.str.contains(string)].index[0:])"
   ]
  },
  {
   "cell_type": "markdown",
   "metadata": {},
   "source": [
    "### アイテムの検索関数"
   ]
  },
  {
   "cell_type": "code",
   "execution_count": 12,
   "metadata": {
    "collapsed": true
   },
   "outputs": [],
   "source": [
    "def search_item(string):\n",
    "    print(df_pu_pivot.columns[df_pu_pivot.columns.str.contains(string)])"
   ]
  },
  {
   "cell_type": "markdown",
   "metadata": {},
   "source": [
    "#### 検索関数使用例"
   ]
  },
  {
   "cell_type": "code",
   "execution_count": 13,
   "metadata": {
    "collapsed": false
   },
   "outputs": [
    {
     "name": "stdout",
     "output_type": "stream",
     "text": [
      "Index(['Adidas logo-hoodie', 'Adidas track pants', 'Freaks Store Boa-jacket',\n",
      "       'Freaks Store noldick knit', 'Nike OH pants', 'Nike sports hoodie',\n",
      "       'The North Face Swead boots'],\n",
      "      dtype='object', name='product_name')\n",
      "Index(['A'], dtype='object', name='user_name')\n"
     ]
    }
   ],
   "source": [
    "search_item('s')\n",
    "search_user('A')"
   ]
  },
  {
   "cell_type": "markdown",
   "metadata": {},
   "source": [
    "### 類似度を求める関数"
   ]
  },
  {
   "cell_type": "code",
   "execution_count": 14,
   "metadata": {
    "collapsed": false
   },
   "outputs": [],
   "source": [
    "def get_sim(user1,user2):\n",
    "    distance, indice = model_knn.kneighbors(df_pu_pivot.iloc[df_pu_pivot.index== user1].values.reshape(1,-1),n_neighbors=N)\n",
    "    for i in range(0, len(distance.flatten())):\n",
    "        if  i > 0:\n",
    "            if df_pu_pivot.index[indice.flatten()[i]] == user2:\n",
    "                return(1 - distance.flatten()[i])"
   ]
  },
  {
   "cell_type": "code",
   "execution_count": 15,
   "metadata": {
    "collapsed": false
   },
   "outputs": [
    {
     "name": "stdout",
     "output_type": "stream",
     "text": [
      "simirality(A,G) =  None\n"
     ]
    }
   ],
   "source": [
    "#使用例　ユーザーBとAの購入ログに基づく類似度\n",
    "print('simirality(A,G) = ',get_sim('B','C'))"
   ]
  },
  {
   "cell_type": "markdown",
   "metadata": {},
   "source": [
    "### 購入商品を集合にする関数"
   ]
  },
  {
   "cell_type": "code",
   "execution_count": 16,
   "metadata": {
    "collapsed": false
   },
   "outputs": [],
   "source": [
    "def get_product_set(user):\n",
    "    s = set([])\n",
    "    for i in range(len(df_pu_pivot.loc[user].values)):\n",
    "           if df_pu_pivot.loc[user].values[i] > 0:\n",
    "                s.add(df_pu_pivot.columns[i])\n",
    "    return(s)"
   ]
  },
  {
   "cell_type": "markdown",
   "metadata": {},
   "source": [
    "### レコメンド関数"
   ]
  },
  {
   "cell_type": "code",
   "execution_count": 17,
   "metadata": {
    "collapsed": false
   },
   "outputs": [],
   "source": [
    "import copy \n",
    "def get_recommend(user, top_N):\n",
    "    totals = {}  ; simSums = {}\n",
    "    # 全てのユーザー、商品リストの作成\n",
    "    list_product = []\n",
    "    list_user = []\n",
    "    for i in range(len(df_pu_pivot.values)):\n",
    "        list_product.append(df_pu_pivot.columns[i])\n",
    "        list_user.append(df_pu_pivot.index[i])\n",
    "    \n",
    "    #自分以外のユーザーリスト\n",
    "    list_others = copy.copy(list_user)\n",
    "    list_others.remove(user)\n",
    "    \n",
    "    # 自分の購入商品集合\n",
    "    set_user = get_product_set(user)\n",
    "    \n",
    "    for other in list_others:\n",
    "        #本人がまだ購入していない商品の集合を取得\n",
    "        set_other = get_product_set(other)\n",
    "        set_new_product = set_other.difference(set_user)\n",
    "        \n",
    "        #あるユーザーと本人の類似度を計算\n",
    "        sim = get_sim(user,other)\n",
    "        \n",
    "        if sim is not None:\n",
    "            for item in set_new_product:\n",
    "                #類似度 *  \n",
    "                totals.setdefault(item,0)\n",
    "                totals[item] += df_pu_pivot.loc[other,item]*sim\n",
    "                #ユーザーの類似度の積算値\n",
    "                simSums.setdefault(item,0)\n",
    "                simSums[item] += sim\n",
    "\n",
    "    rankings = []\n",
    "    #ランキングリストの作成\n",
    "    for item,total in totals.items():\n",
    "        if simSums[item] != 0:\n",
    "            rankings.append((total/simSums[item],item))\n",
    "    rankings.sort()\n",
    "    rankings.reverse()\n",
    "    return ([i[1] for i in rankings][:top_N])"
   ]
  },
  {
   "cell_type": "code",
   "execution_count": 18,
   "metadata": {
    "collapsed": false
   },
   "outputs": [
    {
     "data": {
      "text/plain": [
       "['Nike air force 1', 'Freaks Store noldick knit', 'Freaks Store Boa-jacket']"
      ]
     },
     "execution_count": 18,
     "metadata": {},
     "output_type": "execute_result"
    }
   ],
   "source": [
    "get_recommend('C',6)"
   ]
  },
  {
   "cell_type": "markdown",
   "metadata": {},
   "source": [
    "#### 参考\n",
    "- Pythonで簡単な協調フィルタリングを実装するためのノート[https://qiita.com/hik0107/items/96c483afd6fb2f077985]\n",
    "- 機械学習を使って630万件のレビューに基づいたアニメのレコメンド機能を作ってみよう（機械学習 k近傍法 初心者向け）\n",
    "[https://www.codexa.net/collaborative-filtering-k-nearest-neighbor/]"
   ]
  }
 ],
 "metadata": {
  "kernelspec": {
   "display_name": "Python 3",
   "language": "python",
   "name": "python3"
  },
  "language_info": {
   "codemirror_mode": {
    "name": "ipython",
    "version": 3
   },
   "file_extension": ".py",
   "mimetype": "text/x-python",
   "name": "python",
   "nbconvert_exporter": "python",
   "pygments_lexer": "ipython3",
   "version": "3.5.1"
  }
 },
 "nbformat": 4,
 "nbformat_minor": 0
}
